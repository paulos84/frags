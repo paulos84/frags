{
 "cells": [
  {
   "cell_type": "code",
   "execution_count": 1,
   "metadata": {},
   "outputs": [],
   "source": [
    "from rdkit import Chem\n",
    "from rdkit.Chem import Draw\n",
    "from PIL import ImageFilter\n",
    "\n",
    "acyclic_terpene_smiles = 'CC(C)=CCCC'\n",
    "\n",
    "mol = Chem.MolFromSmiles(acyclic_terpene_smiles)\n",
    "pil_mol = Draw.MolToImage(mol)"
   ]
  },
  {
   "cell_type": "code",
   "execution_count": 18,
   "metadata": {},
   "outputs": [],
   "source": [
    "pil_mol.filter(ImageFilter.SMOOTH).crop((25, 70, 280, 220)).save('media/acyclic_terpene.png')"
   ]
  },
  {
   "cell_type": "code",
   "execution_count": 19,
   "metadata": {},
   "outputs": [],
   "source": [
    "import pubchempy as pcp"
   ]
  },
  {
   "cell_type": "code",
   "execution_count": 22,
   "metadata": {},
   "outputs": [],
   "source": [
    "cid_no = pcp.get_compounds('CC=CC(=O)', 'smiles')[0].cid"
   ]
  },
  {
   "cell_type": "code",
   "execution_count": 23,
   "metadata": {},
   "outputs": [
    {
     "data": {
      "text/plain": [
       "20138"
      ]
     },
     "execution_count": 23,
     "metadata": {},
     "output_type": "execute_result"
    }
   ],
   "source": [
    "cid_no"
   ]
  },
  {
   "cell_type": "code",
   "execution_count": 2,
   "metadata": {},
   "outputs": [
    {
     "name": "stdout",
     "output_type": "stream",
     "text": [
      "Help on package rdkit.Chem.Draw in rdkit.Chem:\n",
      "\n",
      "NAME\n",
      "    rdkit.Chem.Draw\n",
      "\n",
      "DESCRIPTION\n",
      "    # Copyright (C) 2006-2016 Greg Landrum\n",
      "    #  All Rights Reserved\n",
      "    #\n",
      "\n",
      "PACKAGE CONTENTS\n",
      "    IPythonConsole\n",
      "    MolDrawing\n",
      "    SimilarityMaps\n",
      "    aggCanvas\n",
      "    cairoCanvas\n",
      "    canvasbase\n",
      "    mplCanvas\n",
      "    qtCanvas\n",
      "    rdMolDraw2D\n",
      "    spingCanvas\n",
      "\n",
      "FUNCTIONS\n",
      "    MolToFile(mol, fileName, size=(300, 300), kekulize=True, wedgeBonds=True, imageType=None, fitImage=False, options=None, **kwargs)\n",
      "        Generates a drawing of a molecule and writes it to a file\n",
      "    \n",
      "    MolToImage(mol, size=(300, 300), kekulize=True, wedgeBonds=True, fitImage=False, options=None, canvas=None, **kwargs)\n",
      "        Returns a PIL image containing a drawing of the molecule\n",
      "        \n",
      "        ARGUMENTS:\n",
      "        \n",
      "          - kekulize: run kekulization routine on input `mol` (default True)\n",
      "        \n",
      "          - size: final image size, in pixel (default (300,300))\n",
      "        \n",
      "          - wedgeBonds: draw wedge (stereo) bonds (default True)\n",
      "        \n",
      "          - highlightAtoms: list of atoms to highlight (default [])\n",
      "        \n",
      "          - highlightMap: dictionary of (atom, color) pairs (default None)\n",
      "        \n",
      "          - highlightBonds: list of bonds to highlight (default [])\n",
      "        \n",
      "          - highlightColor: RGB color as tuple (default [1, 0, 0])\n",
      "        \n",
      "        NOTE:\n",
      "        \n",
      "              use 'matplotlib.colors.to_rgb()' to convert string and\n",
      "              HTML color codes into the RGB tuple representation, eg.\n",
      "        \n",
      "                from matplotlib.colors import ColorConverter\n",
      "                img = Draw.MolToImage(m, highlightAtoms=[1,2], highlightColor=ColorConverter().to_rgb('aqua'))\n",
      "                img.save(\"molecule.png\")\n",
      "        \n",
      "        RETURNS:\n",
      "        \n",
      "          a PIL Image object\n",
      "    \n",
      "    MolToImageFile(mol, filename, size=(300, 300), kekulize=True, wedgeBonds=True, **kwargs)\n",
      "        DEPRECATED:  please use MolToFile instead\n",
      "    \n",
      "    MolToMPL(mol, size=(300, 300), kekulize=True, wedgeBonds=True, imageType=None, fitImage=False, options=None, **kwargs)\n",
      "        Generates a drawing of a molecule on a matplotlib canvas\n",
      "    \n",
      "    MolToQPixmap(mol, size=(300, 300), kekulize=True, wedgeBonds=True, fitImage=False, options=None, **kwargs)\n",
      "        Generates a drawing of a molecule on a Qt QPixmap\n",
      "    \n",
      "    MolsToGridImage(mols, molsPerRow=3, subImgSize=(200, 200), legends=None, highlightAtomLists=None, useSVG=False, **kwargs)\n",
      "    \n",
      "    MolsToImage(mols, subImgSize=(200, 200), legends=None, **kwargs)\n",
      "    \n",
      "    PrepareMolForDrawing(...)\n",
      "        PrepareMolForDrawing( (Mol)mol [, (bool)kekulize=True [, (bool)addChiralHs=True [, (bool)wedgeBonds=True [, (bool)forceCoords=False]]]]) -> Mol :\n",
      "            Does some cleanup operations on the molecule to prepare it to draw nicely.\n",
      "            The operations include: kekulization, addition of chiral Hs (so that we can draw\n",
      "            wedges to them), wedging of bonds at chiral centers, and generation of a 2D\n",
      "            conformation if the molecule does not already have a conformation\n",
      "            \n",
      "            Returns a modified copy of the molecule.\n",
      "            \n",
      "        \n",
      "            C++ signature :\n",
      "                class RDKit::ROMol * __ptr64 PrepareMolForDrawing(class RDKit::ROMol const * __ptr64 [,bool=True [,bool=True [,bool=True [,bool=False]]]])\n",
      "    \n",
      "    ReactionToImage(rxn, subImgSize=(200, 200), **kwargs)\n",
      "    \n",
      "    ShowMol(mol, size=(300, 300), kekulize=True, wedgeBonds=True, title='RDKit Molecule', **kwargs)\n",
      "        Generates a picture of a molecule and displays it in a Tkinter window\n",
      "    \n",
      "    calcAtomGaussians(mol, a=0.03, step=0.02, weights=None)\n",
      "        useful things to do with these:\n",
      "        fig.axes[0].imshow(z,cmap=cm.gray,interpolation='bilinear',origin='lower',extent=(0,1,0,1))\n",
      "        fig.axes[0].contour(x,y,z,20,colors='k')\n",
      "        \n",
      "        fig=Draw.MolToMPL(m);\n",
      "        contribs=Crippen.rdMolDescriptors._CalcCrippenContribs(m)\n",
      "        logps,mrs=zip(*contribs)\n",
      "        x,y,z=Draw.calcAtomGaussians(m,0.03,step=0.01,weights=logps)\n",
      "        fig.axes[0].imshow(z,cmap=cm.jet,interpolation='bilinear',origin='lower',extent=(0,1,0,1))\n",
      "        fig.axes[0].contour(x,y,z,20,colors='k',alpha=0.5)\n",
      "        fig.savefig('coumlogps.colored.png',bbox_inches='tight')\n",
      "\n",
      "DATA\n",
      "    tkLabel = None\n",
      "    tkPI = None\n",
      "    tkRoot = None\n",
      "\n",
      "FILE\n",
      "    c:\\users\\paul\\anaconda3\\lib\\site-packages\\rdkit\\chem\\draw\\__init__.py\n",
      "\n",
      "\n"
     ]
    }
   ],
   "source": [
    "help(Draw)"
   ]
  },
  {
   "cell_type": "code",
   "execution_count": null,
   "metadata": {},
   "outputs": [],
   "source": []
  }
 ],
 "metadata": {
  "anaconda-cloud": {},
  "kernelspec": {
   "display_name": "Python [default]",
   "language": "python",
   "name": "python3"
  },
  "language_info": {
   "codemirror_mode": {
    "name": "ipython",
    "version": 3
   },
   "file_extension": ".py",
   "mimetype": "text/x-python",
   "name": "python",
   "nbconvert_exporter": "python",
   "pygments_lexer": "ipython3",
   "version": "3.5.2"
  }
 },
 "nbformat": 4,
 "nbformat_minor": 2
}
